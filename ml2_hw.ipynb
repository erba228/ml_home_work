{
 "cells": [
  {
   "cell_type": "markdown",
   "id": "d9b131fc-8041-482d-85f9-7eee70ac99d5",
   "metadata": {},
   "source": [
    "# Data Aggregation and Group Operations\n"
   ]
  },
  {
   "cell_type": "code",
   "execution_count": 1,
   "id": "cb4c999b-d148-4455-9f0a-1f88dbdc10cc",
   "metadata": {},
   "outputs": [
    {
     "name": "stderr",
     "output_type": "stream",
     "text": [
      "C:\\Users\\User\\AppData\\Local\\Temp\\ipykernel_23332\\2162656668.py:1: DeprecationWarning: \n",
      "Pyarrow will become a required dependency of pandas in the next major release of pandas (pandas 3.0),\n",
      "(to allow more performant data types, such as the Arrow string type, and better interoperability with other libraries)\n",
      "but was not found to be installed on your system.\n",
      "If this would cause problems for you,\n",
      "please provide us feedback at https://github.com/pandas-dev/pandas/issues/54466\n",
      "        \n",
      "  import pandas as pd\n"
     ]
    }
   ],
   "source": [
    "import pandas as pd\n",
    "import numpy as np"
   ]
  },
  {
   "cell_type": "code",
   "execution_count": 2,
   "id": "d634d70f-3c02-4633-8c29-5eb55f7a575e",
   "metadata": {},
   "outputs": [],
   "source": [
    "data = {\n",
    "    'Дата': ['2023-01-01', '2023-01-05', '2023-02-10', '2023-02-15', '2023-03-03'],\n",
    "    'Сумма': [100, 200, 150, 300, 250],\n",
    "    'Тип': ['покупка', 'перевод', 'покупка', 'снятие', 'перевод'],\n",
    "    'Клиент': ['Клиент1', 'Клиент2', 'Клиент1', 'Клиент3', 'Клиент2']\n",
    "} \n"
   ]
  },
  {
   "cell_type": "code",
   "execution_count": 6,
   "id": "3e1b522f-f6ca-46c9-afd3-beb80debbdbc",
   "metadata": {},
   "outputs": [],
   "source": [
    "# Преобразуйте столбец 'Дата' в формат datetime\n",
    "# Группируйте данные по клиентам и суммируем сумму транзакций для каждого клиента\n",
    "# Группируйте данные по типу транзакции и вычисляем среднюю сумму транзакций\n",
    "# Добавьте столбец с месяцем транзакции\n",
    "# Группируйте данные по клиентам и месяцам и суммируем сумму транзакций для каждого клиента в каждом месяце\n",
    "# примините основные агрегирующие операции : \n",
    "# Посчитать общую сумму операций для каждого клиента.\n",
    "# Найти среднюю сумму операции для каждого типа операции.\n",
    "# Определить день с наибольшей суммой операций.\n",
    "# Рассчитать общую сумму операций за каждый месяц\n",
    "# Найти клиента с наибольшей общей суммой операций\n",
    "# Посчитать общее количество операций для каждого типа\n",
    "# Определить день с наибольшим количеством операций\n",
    "# Найти клиента, который совершил наибольшее количество операций"
   ]
  },
  {
   "cell_type": "code",
   "execution_count": 7,
   "id": "136339eb",
   "metadata": {},
   "outputs": [],
   "source": [
    "data_df = pd.DataFrame(data)"
   ]
  },
  {
   "cell_type": "code",
   "execution_count": 8,
   "id": "a00c2b75-7ad2-4a56-b137-592f501ca4f4",
   "metadata": {},
   "outputs": [],
   "source": [
    "# Преобразуйте столбец 'Дата' в формат datetime\n",
    "data_df['Дата'] = pd.to_datetime(data_df['Дата'])"
   ]
  },
  {
   "cell_type": "code",
   "execution_count": 10,
   "metadata": {},
   "outputs": [
    {
     "data": {
      "text/plain": [
       "Клиент\n",
       "Клиент1    250\n",
       "Клиент2    450\n",
       "Клиент3    300\n",
       "Name: Сумма, dtype: int64"
      ]
     },
     "execution_count": 10,
     "metadata": {},
     "output_type": "execute_result"
    }
   ],
   "source": [
    "# Группируйте данные по клиентам и суммируем сумму транзакций для каждого клиента\n",
    "total_transactions_by_client = data_df.groupby('Клиент')['Сумма'].sum()\n",
    "total_transactions_by_client"
   ]
  },
  {
   "cell_type": "code",
   "execution_count": 11,
   "id": "76f36d83",
   "metadata": {},
   "outputs": [
    {
     "data": {
      "text/plain": [
       "Тип\n",
       "перевод    225.0\n",
       "покупка    125.0\n",
       "снятие     300.0\n",
       "Name: Сумма, dtype: float64"
      ]
     },
     "execution_count": 11,
     "metadata": {},
     "output_type": "execute_result"
    }
   ],
   "source": [
    "# Группируйте данные по типу транзакции и вычисляем среднюю сумму транзакций\n",
    "average_transaction_amount_by_type = data_df.groupby('Тип')['Сумма'].mean()\n",
    "average_transaction_amount_by_type"
   ]
  },
  {
   "cell_type": "code",
   "execution_count": 12,
   "id": "6872e360",
   "metadata": {},
   "outputs": [],
   "source": [
    "# Добавьте столбец с месяцем транзакции\n",
    "data_df['Месяц'] = data_df['Дата'].dt.month"
   ]
  },
  {
   "cell_type": "code",
   "execution_count": 14,
   "id": "2e3ed9ae",
   "metadata": {},
   "outputs": [
    {
     "data": {
      "text/plain": [
       "Клиент   Месяц\n",
       "Клиент1  1        100\n",
       "         2        150\n",
       "Клиент2  1        200\n",
       "         3        250\n",
       "Клиент3  2        300\n",
       "Name: Сумма, dtype: int64"
      ]
     },
     "execution_count": 14,
     "metadata": {},
     "output_type": "execute_result"
    }
   ],
   "source": [
    "# Группируйте данные по клиентам и месяцам и суммируем сумму транзакций для каждого клиента в каждом месяце\n",
    "total_transactions_by_client_month = data_df.groupby(['Клиент', 'Месяц'])['Сумма'].sum()\n",
    "total_transactions_by_client_month"
   ]
  },
  {
   "cell_type": "code",
   "execution_count": 15,
   "id": "d1806192",
   "metadata": {},
   "outputs": [
    {
     "data": {
      "text/plain": [
       "Timestamp('2023-02-15 00:00:00')"
      ]
     },
     "execution_count": 15,
     "metadata": {},
     "output_type": "execute_result"
    }
   ],
   "source": [
    "# Определить день с наибольшей суммой операций.\n",
    "max_day = data_df.groupby('Дата')['Сумма'].sum().idxmax()\n",
    "max_day"
   ]
  },
  {
   "cell_type": "code",
   "execution_count": 17,
   "id": "ef177c84",
   "metadata": {},
   "outputs": [
    {
     "data": {
      "text/plain": [
       "Дата\n",
       "2023-01    300\n",
       "2023-02    450\n",
       "2023-03    250\n",
       "Freq: M, Name: Сумма, dtype: int64"
      ]
     },
     "execution_count": 17,
     "metadata": {},
     "output_type": "execute_result"
    }
   ],
   "source": [
    "# Рассчитать общую сумму операций за каждый месяц\n",
    "total_transactions_by_month = data_df.groupby(data_df['Дата'].dt.to_period('M'))['Сумма'].sum()\n",
    "total_transactions_by_month"
   ]
  },
  {
   "cell_type": "code",
   "execution_count": 18,
   "id": "ad6547a0",
   "metadata": {},
   "outputs": [
    {
     "data": {
      "text/plain": [
       "'Клиент2'"
      ]
     },
     "execution_count": 18,
     "metadata": {},
     "output_type": "execute_result"
    }
   ],
   "source": [
    "# Найти клиента с наибольшей общей суммой операций\n",
    "total_transactions_by_client.idxmax()"
   ]
  },
  {
   "cell_type": "code",
   "execution_count": 19,
   "id": "a80418aa",
   "metadata": {},
   "outputs": [
    {
     "data": {
      "text/plain": [
       "Тип\n",
       "покупка    2\n",
       "перевод    2\n",
       "снятие     1\n",
       "Name: count, dtype: int64"
      ]
     },
     "execution_count": 19,
     "metadata": {},
     "output_type": "execute_result"
    }
   ],
   "source": [
    "# Посчитать общее количество операций для каждого типа\n",
    "total_transactions_by_type = data_df['Тип'].value_counts()\n",
    "total_transactions_by_type"
   ]
  },
  {
   "cell_type": "code",
   "execution_count": 20,
   "id": "c0297437",
   "metadata": {},
   "outputs": [
    {
     "data": {
      "text/plain": [
       "Timestamp('2023-01-01 00:00:00')"
      ]
     },
     "execution_count": 20,
     "metadata": {},
     "output_type": "execute_result"
    }
   ],
   "source": [
    "# Определить день с наибольшим количеством операций\n",
    "day_max_oper = data_df['Дата'].value_counts().idxmax()\n",
    "day_max_oper"
   ]
  },
  {
   "cell_type": "code",
   "execution_count": 21,
   "id": "4941268a",
   "metadata": {},
   "outputs": [
    {
     "data": {
      "text/plain": [
       "'Клиент1'"
      ]
     },
     "execution_count": 21,
     "metadata": {},
     "output_type": "execute_result"
    }
   ],
   "source": [
    "# Найти клиента, который совершил наибольшее количество операций\n",
    "client_max_oper = data_df['Клиент'].value_counts().idxmax()\n",
    "client_max_oper"
   ]
  }
 ],
 "metadata": {
  "kernelspec": {
   "display_name": "Python 3 (ipykernel)",
   "language": "python",
   "name": "python3"
  },
  "language_info": {
   "codemirror_mode": {
    "name": "ipython",
    "version": 3
   },
   "file_extension": ".py",
   "mimetype": "text/x-python",
   "name": "python",
   "nbconvert_exporter": "python",
   "pygments_lexer": "ipython3",
   "version": "3.11.4"
  }
 },
 "nbformat": 4,
 "nbformat_minor": 5
}
